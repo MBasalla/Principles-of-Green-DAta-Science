{
 "cells": [
  {
   "cell_type": "markdown",
   "metadata": {},
   "source": [
    "Time measurements\n",
    "===\n",
    "Time can serve as indicator for energy consumption"
   ]
  },
  {
   "cell_type": "code",
   "execution_count": 32,
   "metadata": {},
   "outputs": [],
   "source": [
    "import timeit as tt\n",
    "n=1000000 #Repetitions\n",
    "t_list_10=tt.timeit('li=list(range(100)); [0 if i in li else 0 for i in range(10)]',number=n)\n",
    "t_list_100=tt.timeit('li=list(range(100)); [0 if i in li else 0 for i in range(10)]',number=n)\n",
    "t_set_10=tt.timeit('li=set(range(100)); [0 if i in li else 0 for i in range(10)]',number=n)\n",
    "t_set_100=tt.timeit('li=set(range(100)); [0 if i in li else 0 for i in range(100)]',number=n)\n",
    "t_lib_numpy=tt.timeit('import numpy as np;np.sum(np.arange(1000))',number=n)\n",
    "t_lib_rawPython=tt.timeit('sum(range(1000))',number=n)"
   ]
  },
  {
   "cell_type": "code",
   "execution_count": 33,
   "metadata": {},
   "outputs": [
    {
     "name": "stdout",
     "output_type": "stream",
     "text": [
      "t_list_10 =       0.89 [s]\n",
      "t_list_100 =      2.23 [s]\n",
      "t_set_10 =        0.79 [s]\n",
      "t_set_100 =       7.14 [s]\n",
      "t_lib_numpy =     4.76 [s]\n",
      "t_lib_rawPython = 15.02 [s]\n"
     ]
    }
   ],
   "source": [
    "print(\"t_list_10 =      \",np.round(t_list_10,2),\"[s]\")\n",
    "print(\"t_list_100 =     \",np.round(t_list_100,2),\"[s]\")\n",
    "print(\"t_set_10 =       \",np.round(t_set_10,2),\"[s]\")\n",
    "print(\"t_set_100 =      \",np.round(t_set_100,2),\"[s]\")\n",
    "print(\"t_lib_numpy =    \",np.round(t_lib_numpy,2),\"[s]\")\n",
    "print(\"t_lib_rawPython =\",np.round(t_lib_rawPython,2),\"[s]\")"
   ]
  }
 ],
 "metadata": {
  "kernelspec": {
   "display_name": "Python 3",
   "language": "python",
   "name": "python3"
  },
  "language_info": {
   "codemirror_mode": {
    "name": "ipython",
    "version": 3
   },
   "file_extension": ".py",
   "mimetype": "text/x-python",
   "name": "python",
   "nbconvert_exporter": "python",
   "pygments_lexer": "ipython3",
   "version": "3.6.3"
  }
 },
 "nbformat": 4,
 "nbformat_minor": 2
}
